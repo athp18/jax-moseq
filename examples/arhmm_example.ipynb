{
 "cells": [
  {
   "cell_type": "markdown",
   "id": "009d4f20",
   "metadata": {},
   "source": [
    "## ARHMM Example Notebook\n",
    "### Overview\n",
    "This notebook illustrates how to use `jax_moseq.models.arhmm` to fit a sticky hierarchical Dirichlet process autoregressive hidden Markov model (henceforth simply an \"ARHMM\") to time series data via Gibbs sampling. Building on earlier work by Fox et al. (2008), in the original MoSeq paper, Wiltchsko et al. (2015) used this model to show that mouse behavior consists of concatenated sequences of discrete action patterns called syllables. Here we recapitulate that analysis to demo our `jax` implementation of the ARHMM.\n",
    "\n",
    "### Model\n",
    "#### Intuition\n",
    "As its name suggests, the ARHMM combines two very powerful ideas from time series analysis—hidden Markov models (HMM's) and autoregressive (AR) processes—and therefore instantiates the following assumptions:\n",
    "\n",
    "1. A latent Markov chain of discrete states governs how our observations evolve over time.\n",
    "2. The observed state of our system at a given time point is a noisy linear function of the state at the preceding $\\ell \\geq 1$ time points ($\\ell$ being a hyperparameter of the model).\n",
    "\n",
    "In the ARHMM, the discrete state of our system at time $t$ specifies which of a learned set of AR processes will determine the updated state of the system at time $t + 1$, which allows us to approximate the system's non-linear dynamics as a series of switches between different linear regimes.\n",
    "\n",
    "#### Formalism\n",
    "The ARHMM has the following learnable states and parameters.\n",
    "- the discrete state sequence: $Z = \\{ z_t \\in \\{ 1, ..., N \\} \\}_{t=1}^{T}$\n",
    "- the continuous observations: $X = \\{ x_t \\in \\mathbb{R}^{d} \\}_{t=1}^{T}$\n",
    "- the Markov transition matrix: $\\pi \\in \\mathbb{R}^{N \\times N}$\n",
    "- the usage of each state: $\\beta \\in \\mathbb{R}^{N}$\n",
    "- The autoregressive parameters: $\\Theta = \\{ A^{(i)} \\in \\mathbb{R}^{d \\times \\ell d},\n",
    "                                              b^{(i)} \\in \\mathbb{R}^{d},\n",
    "                                              Q^{(i)} \\in \\mathbb{R}^{d \\times d}\\}_{i=1}^{N}$.\n",
    "\n",
    "Above $d$ denotes the dimensionality of our observations, $\\ell$ denotes the number of AR lags, and $N$ denotes the maximum number of states in our model (taking the weak limit of the HDP).\n",
    "\n",
    "Then the parameters of the model are related as follows:\n",
    "- $\\beta \\sim \\text{Dir}(\\frac{\\gamma}{N}, \\dots, \\frac{\\gamma}{N})$\n",
    "- $\\pi_i \\sim \\text{Dir}(\\alpha \\beta_1 + \\kappa \\delta_{i1}, \\dots, \\alpha \\beta_N + \\kappa \\delta_{iN})$\n",
    "- $(A^{(i)},b^{(i)}), Q^{(i)} \\sim \\text{MNIW}(\\nu_0, S_0, M_0, K_0)$\n",
    "- $z_t \\sim \\text{Categorical}(\\pi_{z_{t-1}})$\n",
    "- $x_t \\sim \\mathcal{N}(A^{(z_t)} [x_{t-\\ell}^T, \\dots ,x_{t-1}^T]^T + b^{(z_t)}, Q^{(z_t)})$\n",
    "\n",
    "Above $\\delta_{ij} = \\begin{cases} 1 & i = j \\\\  0 & i \\neq j \\end{cases}$ is simply an indicator variable. The hyperparameters are defined as follows:\n",
    "\n",
    "- The sparsity prior on the states: $\\gamma \\geq 0$\n",
    "- The strength of the sparsity prior: $\\alpha \\geq 0$\n",
    "- The bias towards self transitions: $\\kappa \\geq 0$\n",
    "- The inverse-Wishart degrees of freedom for the AR noise covariances: $n_0 \n",
    "\\in \\mathbb{N}_{\\geq d}$\n",
    "- The inverse-Wishart scale for the AR noise covariances: $S_0 \\in \\mathbb{R}^{d \\times d}$\n",
    "- The matrix normal expectation for the AR transforms: $M_0 \\in \\mathbb{R}^{d \\times \\ell d + 1}$\n",
    "- The matrix normal column scale for the AR transforms: $K_0 \\in \\mathbb{R}^{\\ell d + 1 \\times \\ell d + 1}$\n",
    "\n",
    "#### Fitting\n",
    "We fit the model using Gibbs Sampling. As a reminder, Gibbs sampling is a Markov chain Monte Carlo (MCMC) algorithm that's useful for sampling from the posterior distribution of a probabilistic graphical model. More plainly, we have some observations ($X$) and we'd like to learn a set of latent states ($Z$) and parameters ($\\pi, \\beta, \\Theta$) that are compatible those observations, subject to certain priors on the model (specified by the hyperparameters). To do so, after randomly initializing the model, we cycle through its parameters and latents, resampling each variable given the current states of each of the other variables (`jax_moseq.models.arhmm.gibbs` for the implementation). After enough iterations of this process we should learn a reasonable set of latent states and parameters.\n",
    "\n",
    "### References\n",
    "[1] Fox, E., Sudderth, E., Jordan, M., & Willsky, A. (2008). Nonparametric Bayesian learning of switching linear dynamical systems. Advances in neural information processing systems, 21.\n",
    "\n",
    "[2] Wiltschko, A. B., Johnson, M. J., Iurilli, G., Peterson, R. E., Katon, J. M., Pashkovski, S. L., Abraira1, V. E., Adams, R. P., & Datta, S. R. (2015). Mapping sub-second structure in mouse behavior. Neuron, 88(6), 1121-1135."
   ]
  },
  {
   "cell_type": "markdown",
   "id": "cc3c6565",
   "metadata": {},
   "source": [
    "### Code\n",
    "Before running this notebook, be sure to install `jax_moseq` and its associated dependencies. This notebook also requires `tqdm` and `matplotlib`. Also note that while a GPU is not required, it certainly doesn't hurt."
   ]
  },
  {
   "cell_type": "code",
   "execution_count": 1,
   "id": "2c8616f5",
   "metadata": {},
   "outputs": [],
   "source": [
    "from jax_moseq.models import arhmm\n",
    "\n",
    "import jax\n",
    "import jax.numpy as jnp\n",
    "import numpy as np\n",
    "\n",
    "from tqdm.auto import trange\n",
    "import matplotlib.pyplot as plt"
   ]
  },
  {
   "cell_type": "markdown",
   "id": "997a1257",
   "metadata": {},
   "source": [
    "#### Helper Methods"
   ]
  },
  {
   "cell_type": "code",
   "execution_count": 2,
   "id": "51343099",
   "metadata": {},
   "outputs": [],
   "source": [
    "def print_dict(d, depth=0, ind='  '):\n",
    "    if type(d) != dict:\n",
    "        try:\n",
    "            item = d.shape\n",
    "        except AttributeError:\n",
    "            item = d\n",
    "        print(f'{ind * depth}{item}')\n",
    "        return\n",
    "    \n",
    "    for k, v in d.items():\n",
    "        print(f'{ind * depth}{k}')\n",
    "        print_dict(v, depth + 1, ind)"
   ]
  },
  {
   "cell_type": "code",
   "execution_count": 3,
   "id": "8397b8ad",
   "metadata": {},
   "outputs": [],
   "source": [
    "def plot_ll(key, ll_history):\n",
    "    plt.title(f'Log Likelihood of {key}')\n",
    "    plt.xlabel('Iteration')\n",
    "    plt.ylabel('Log Likelihood')\n",
    "    plt.plot(ll_history)\n",
    "    plt.show()"
   ]
  },
  {
   "cell_type": "markdown",
   "id": "3d5fd332",
   "metadata": {},
   "source": [
    "#### Loading the Data\n",
    "The data is stored in a dictionary with two entries: \n",
    "- `'x'` - a jax array of shape `(num_sessions, num_timesteps, obs_dim)` containing the continuous observations to which the model will be fit. In this case, these data are 10 dimensional PCA projections of mouse depth images (see Wiltschko et al. 2015) sampled at 30 fps.\n",
    "- `'mask'` - a jax array of shape `(num_sessions, num_timesteps)` indicating which data points are valid (which is useful in the event that data for each session differs in length)."
   ]
  },
  {
   "cell_type": "code",
   "execution_count": 4,
   "id": "9aff95a4",
   "metadata": {},
   "outputs": [
    {
     "name": "stdout",
     "output_type": "stream",
     "text": [
      "x\n",
      "  (25, 37800, 10)\n",
      "mask\n",
      "  (25, 37800)\n"
     ]
    }
   ],
   "source": [
    "x_path = 'example_data.npy'\n",
    "x = np.load(x_path)\n",
    "\n",
    "data = {'x': jax.device_put(x),\n",
    "        'mask': jnp.ones((x.shape[:2]))}\n",
    "del x\n",
    "\n",
    "print_dict(data)"
   ]
  },
  {
   "cell_type": "markdown",
   "id": "52ded543",
   "metadata": {},
   "source": [
    "#### Setting the Hyperparameters"
   ]
  },
  {
   "cell_type": "code",
   "execution_count": 5,
   "id": "a8093f2f",
   "metadata": {},
   "outputs": [],
   "source": [
    "latent_dim = obs_dim = data['x'].shape[-1]\n",
    "num_states = 100          # max number of states\n",
    "nlags = 3                 # number of lags for AR dynamics\n",
    "\n",
    "trans_hypparams = {\n",
    "    'gamma': 1e3, \n",
    "    'alpha': 5.7, \n",
    "    'kappa': 1e6,\n",
    "    'num_states':num_states\n",
    "}\n",
    "\n",
    "ar_hypparams = {\n",
    "    'S_0_scale': .01,\n",
    "    'K_0_scale': 10,\n",
    "    'num_states':num_states,\n",
    "    'nlags':  nlags,\n",
    "    'latent_dim': latent_dim\n",
    "}"
   ]
  },
  {
   "cell_type": "markdown",
   "id": "885eaf75",
   "metadata": {},
   "source": [
    "#### Fitting the Model"
   ]
  },
  {
   "cell_type": "code",
   "execution_count": 6,
   "id": "13365534",
   "metadata": {},
   "outputs": [
    {
     "name": "stdout",
     "output_type": "stream",
     "text": [
      "ARHMM: Initializing hyperparameters\n",
      "ARHMM: Initializing parameters\n",
      "ARHMM: Initializing states\n",
      "seed\n",
      "  (2,)\n",
      "hypparams\n",
      "  trans_hypparams\n",
      "    gamma\n",
      "      1000.0\n",
      "    alpha\n",
      "      5.7\n",
      "    kappa\n",
      "      1000000.0\n",
      "    num_states\n",
      "      100\n",
      "  ar_hypparams\n",
      "    S_0_scale\n",
      "      0.01\n",
      "    K_0_scale\n",
      "      10\n",
      "    num_states\n",
      "      100\n",
      "    nlags\n",
      "      3\n",
      "    latent_dim\n",
      "      10\n",
      "    S_0\n",
      "      (10, 10)\n",
      "    K_0\n",
      "      (31, 31)\n",
      "    M_0\n",
      "      (10, 31)\n",
      "    nu_0\n",
      "      12\n",
      "params\n",
      "  betas\n",
      "    (100,)\n",
      "  pi\n",
      "    (100, 100)\n",
      "  Ab\n",
      "    (100, 10, 31)\n",
      "  Q\n",
      "    (100, 10, 10)\n",
      "states\n",
      "  z\n",
      "    (25, 37797)\n"
     ]
    }
   ],
   "source": [
    "model = arhmm.init_model(data,\n",
    "                         ar_hypparams=ar_hypparams,\n",
    "                         trans_hypparams=trans_hypparams,\n",
    "                         verbose=True)\n",
    "\n",
    "print_dict(model)"
   ]
  },
  {
   "cell_type": "code",
   "execution_count": 7,
   "id": "b92337b6",
   "metadata": {},
   "outputs": [
    {
     "data": {
      "application/vnd.jupyter.widget-view+json": {
       "model_id": "b9b8cb0e57374c769d1f57c0b834cc07",
       "version_major": 2,
       "version_minor": 0
      },
      "text/plain": [
       "  0%|          | 0/50 [00:00<?, ?it/s]"
      ]
     },
     "metadata": {},
     "output_type": "display_data"
    }
   ],
   "source": [
    "num_iters = 50    # number of training iterations\n",
    "\n",
    "ll_keys = ['z', 'x']\n",
    "ll_history = {key: [] for key in ll_keys}\n",
    "\n",
    "for i in trange(num_iters):\n",
    "    # Perform Gibbs resampling\n",
    "    model = arhmm.resample_model(data, **model)\n",
    "    \n",
    "    # Compute the likelihood of the data and\n",
    "    # resampled states given the resampled params\n",
    "    ll = arhmm.model_likelihood(data, **model)\n",
    "    for key in ll_keys:\n",
    "        ll_history[key].append(ll[key].item())"
   ]
  },
  {
   "cell_type": "code",
   "execution_count": 8,
   "id": "f86305b0",
   "metadata": {},
   "outputs": [
    {
     "data": {
      "image/png": "[encoded data removed]",
      "text/plain": [
       "<Figure size 432x288 with 1 Axes>"
      ]
     },
     "metadata": {
      "needs_background": "light"
     },
     "output_type": "display_data"
    },
    {
     "data": {
      "image/png": "[encoded data removed]",
      "text/plain": [
       "<Figure size 432x288 with 1 Axes>"
      ]
     },
     "metadata": {
      "needs_background": "light"
     },
     "output_type": "display_data"
    }
   ],
   "source": [
    "for k, v in ll_history.items():\n",
    "    plot_ll(k, v)"
   ]
  }
 ],
 "metadata": {
  "kernelspec": {
   "display_name": "Python 3 (ipykernel)",
   "language": "python",
   "name": "python3"
  },
  "language_info": {
   "codemirror_mode": {
    "name": "ipython",
    "version": 3
   },
   "file_extension": ".py",
   "mimetype": "text/x-python",
   "name": "python",
   "nbconvert_exporter": "python",
   "pygments_lexer": "ipython3",
   "version": "3.8.13"
  }
 },
 "nbformat": 4,
 "nbformat_minor": 5
}
